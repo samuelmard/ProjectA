{
 "cells": [
  {
   "cell_type": "markdown",
   "id": "66f99429",
   "metadata": {},
   "source": [
    "# Import Dependencies"
   ]
  },
  {
   "cell_type": "code",
   "execution_count": 97,
   "id": "3b5a38f9",
   "metadata": {},
   "outputs": [],
   "source": [
    "import numpy as np\n",
    "import pandas as pd\n",
    "import matplotlib.pyplot as plt\n",
    "\n",
    "import sklearn\n",
    "from sklearn.linear_model import LogisticRegression\n",
    "from sklearn.metrics import roc_auc_score\n",
    "\n",
    "from sklearn.preprocessing import StandardScaler\n",
    "from sklearn.model_selection import GroupKFold\n",
    "\n",
    "    \n",
    "np.set_printoptions(threshold=50, linewidth=160, suppress=True)\n",
    "# import plotting libraries\n",
    "import matplotlib\n",
    "import matplotlib.pyplot as plt\n",
    "plt.style.use('seaborn-v0_8')\n",
    "\n",
    "\n",
    "RANDOM_STATE = 42\n",
    "np.random.seed(RANDOM_STATE)"
   ]
  },
  {
   "cell_type": "markdown",
   "id": "b65a7e71",
   "metadata": {},
   "source": [
    "# Load Data"
   ]
  },
  {
   "cell_type": "code",
   "execution_count": 98,
   "id": "389bbdd8",
   "metadata": {},
   "outputs": [
    {
     "name": "stdout",
     "output_type": "stream",
     "text": [
      "(5557, 32) (5557, 5) (1197, 32)\n"
     ]
    },
    {
     "data": {
      "text/html": [
       "<div>\n",
       "<style scoped>\n",
       "    .dataframe tbody tr th:only-of-type {\n",
       "        vertical-align: middle;\n",
       "    }\n",
       "\n",
       "    .dataframe tbody tr th {\n",
       "        vertical-align: top;\n",
       "    }\n",
       "\n",
       "    .dataframe thead th {\n",
       "        text-align: right;\n",
       "    }\n",
       "</style>\n",
       "<table border=\"1\" class=\"dataframe\">\n",
       "  <thead>\n",
       "    <tr style=\"text-align: right;\">\n",
       "      <th></th>\n",
       "      <th>author</th>\n",
       "      <th>title</th>\n",
       "      <th>passage_id</th>\n",
       "      <th>text</th>\n",
       "      <th>char_count</th>\n",
       "      <th>word_count</th>\n",
       "      <th>sentence_count</th>\n",
       "      <th>avg_word_length</th>\n",
       "      <th>avg_sentence_length</th>\n",
       "      <th>type_token_ratio</th>\n",
       "      <th>...</th>\n",
       "      <th>readability_RIX</th>\n",
       "      <th>readability_DaleChallIndex</th>\n",
       "      <th>info_characters_per_word</th>\n",
       "      <th>info_syll_per_word</th>\n",
       "      <th>info_words_per_sentence</th>\n",
       "      <th>info_type_token_ratio</th>\n",
       "      <th>info_characters</th>\n",
       "      <th>info_syllables</th>\n",
       "      <th>info_words</th>\n",
       "      <th>info_wordtypes</th>\n",
       "    </tr>\n",
       "  </thead>\n",
       "  <tbody>\n",
       "    <tr>\n",
       "      <th>0</th>\n",
       "      <td>A. A. Milne</td>\n",
       "      <td>The Red House Mystery</td>\n",
       "      <td>618</td>\n",
       "      <td>\"Yes.... What sort of terms was he on with the...</td>\n",
       "      <td>493.0</td>\n",
       "      <td>119.0</td>\n",
       "      <td>9.0</td>\n",
       "      <td>3.428571</td>\n",
       "      <td>13.222222</td>\n",
       "      <td>0.655462</td>\n",
       "      <td>...</td>\n",
       "      <td>7.0</td>\n",
       "      <td>11.687683</td>\n",
       "      <td>3.781250</td>\n",
       "      <td>1.041667</td>\n",
       "      <td>96.0</td>\n",
       "      <td>0.760417</td>\n",
       "      <td>363.0</td>\n",
       "      <td>100.0</td>\n",
       "      <td>96.0</td>\n",
       "      <td>73.0</td>\n",
       "    </tr>\n",
       "    <tr>\n",
       "      <th>1</th>\n",
       "      <td>A. A. Milne</td>\n",
       "      <td>The Red House Mystery</td>\n",
       "      <td>685</td>\n",
       "      <td>Perhaps I should say that it was Mark's  priva...</td>\n",
       "      <td>318.0</td>\n",
       "      <td>61.0</td>\n",
       "      <td>5.0</td>\n",
       "      <td>4.327869</td>\n",
       "      <td>12.200000</td>\n",
       "      <td>0.786885</td>\n",
       "      <td>...</td>\n",
       "      <td>15.0</td>\n",
       "      <td>9.823789</td>\n",
       "      <td>4.722222</td>\n",
       "      <td>1.407407</td>\n",
       "      <td>54.0</td>\n",
       "      <td>0.833333</td>\n",
       "      <td>255.0</td>\n",
       "      <td>76.0</td>\n",
       "      <td>54.0</td>\n",
       "      <td>45.0</td>\n",
       "    </tr>\n",
       "  </tbody>\n",
       "</table>\n",
       "<p>2 rows × 32 columns</p>\n",
       "</div>"
      ],
      "text/plain": [
       "        author                  title  passage_id  \\\n",
       "0  A. A. Milne  The Red House Mystery         618   \n",
       "1  A. A. Milne  The Red House Mystery         685   \n",
       "\n",
       "                                                text  char_count  word_count  \\\n",
       "0  \"Yes.... What sort of terms was he on with the...       493.0       119.0   \n",
       "1  Perhaps I should say that it was Mark's  priva...       318.0        61.0   \n",
       "\n",
       "   sentence_count  avg_word_length  avg_sentence_length  type_token_ratio  \\\n",
       "0             9.0         3.428571            13.222222          0.655462   \n",
       "1             5.0         4.327869            12.200000          0.786885   \n",
       "\n",
       "   ...  readability_RIX  readability_DaleChallIndex  info_characters_per_word  \\\n",
       "0  ...              7.0                   11.687683                  3.781250   \n",
       "1  ...             15.0                    9.823789                  4.722222   \n",
       "\n",
       "   info_syll_per_word  info_words_per_sentence  info_type_token_ratio  \\\n",
       "0            1.041667                     96.0               0.760417   \n",
       "1            1.407407                     54.0               0.833333   \n",
       "\n",
       "   info_characters  info_syllables  info_words  info_wordtypes  \n",
       "0            363.0           100.0        96.0            73.0  \n",
       "1            255.0            76.0        54.0            45.0  \n",
       "\n",
       "[2 rows x 32 columns]"
      ]
     },
     "execution_count": 98,
     "metadata": {},
     "output_type": "execute_result"
    }
   ],
   "source": [
    "x_train_df = pd.read_csv(\"x_train.csv\")\n",
    "y_train_df = pd.read_csv(\"y_train.csv\")\n",
    "x_test_df  = pd.read_csv(\"x_test.csv\")\n",
    "\n",
    "print(x_train_df.shape, y_train_df.shape, x_test_df.shape)\n",
    "x_train_df.head(2)"
   ]
  },
  {
   "cell_type": "markdown",
   "id": "71d13028",
   "metadata": {},
   "source": [
    "# Load BERT EMbeddings"
   ]
  },
  {
   "cell_type": "code",
   "execution_count": 99,
   "id": "822a7819",
   "metadata": {},
   "outputs": [
    {
     "name": "stdout",
     "output_type": "stream",
     "text": [
      "Embeddings shapes: (5557, 768) (1197, 768)\n"
     ]
    }
   ],
   "source": [
    "def load_npz_array(path):\n",
    "    f = np.load(path)\n",
    "    # Be robust to unknown key names: pick the first array-like\n",
    "    if isinstance(f, np.lib.npyio.NpzFile):\n",
    "        for k in f.files:\n",
    "            arr = f[k]\n",
    "            if isinstance(arr, np.ndarray):\n",
    "                return arr\n",
    "        raise ValueError(f\"No ndarray found in {path}\")\n",
    "    # If someone passes .npy by mistake\n",
    "    if isinstance(f, np.ndarray):\n",
    "        return f\n",
    "    raise ValueError(f\"Unsupported format for {path}\")\n",
    "\n",
    "E_tr = load_npz_array(\"x_train_BERT_embeddings.npz\")\n",
    "E_te = load_npz_array(\"x_test_BERT_embeddings.npz\")\n",
    "\n",
    "print(\"Embeddings shapes:\", E_tr.shape, E_te.shape)\n",
    "\n",
    "\n",
    "\n"
   ]
  },
  {
   "cell_type": "markdown",
   "id": "7f54a6cb",
   "metadata": {},
   "source": [
    "### Map Labels to Reading Levels & Define Groups for GroupKFold (AUTHOR)"
   ]
  },
  {
   "cell_type": "code",
   "execution_count": 100,
   "id": "8f0b93bf",
   "metadata": {},
   "outputs": [
    {
     "name": "stdout",
     "output_type": "stream",
     "text": [
      "y shape: (5557,)   #unique authors: 140\n"
     ]
    }
   ],
   "source": [
    "COARSE_TO_INT = {\"Key Stage 2-3\": 0, \"Key Stage 4-5\": 1}\n",
    "y = y_train_df[\"Coarse Label\"].map(COARSE_TO_INT).astype(int).values\n",
    "groups = x_train_df[\"author\"].astype(str).values\n",
    "\n",
    "print(\"y shape:\", y.shape, \"  #unique authors:\", x_train_df[\"author\"].nunique())\n"
   ]
  },
  {
   "cell_type": "markdown",
   "id": "37b2eb67",
   "metadata": {},
   "source": [
    "### (OPTIONAL) - Isolate NUMERIC COLUMNS"
   ]
  },
  {
   "cell_type": "code",
   "execution_count": 30,
   "id": "43f09e53",
   "metadata": {},
   "outputs": [
    {
     "name": "stdout",
     "output_type": "stream",
     "text": [
      "# numeric features: 28\n",
      "First 12 numeric columns: ['char_count', 'word_count', 'sentence_count', 'avg_word_length', 'avg_sentence_length', 'type_token_ratio', 'pronoun_freq', 'function_words_count', 'punctuation_frequency', 'sentiment_polarity', 'sentiment_subjectivity', 'readability_Kincaid']\n"
     ]
    }
   ],
   "source": [
    "KEY_COLS = [\"author\", \"title\", \"passage_id\"]\n",
    "TEXT_COL = \"text\"\n",
    "\n",
    "numeric_cols = [\n",
    "    c for c in x_train_df.columns\n",
    "    if c not in KEY_COLS + [TEXT_COL]\n",
    "    and pd.api.types.is_numeric_dtype(x_train_df[c])\n",
    "]\n",
    "\n",
    "print(\"# numeric features:\", len(numeric_cols))\n",
    "print(\"First 12 numeric columns:\", numeric_cols[:12])\n"
   ]
  },
  {
   "cell_type": "markdown",
   "id": "9df8571b",
   "metadata": {},
   "source": [
    "## (Optional) Build Numeric Matrices (Train/Test)"
   ]
  },
  {
   "cell_type": "code",
   "execution_count": 46,
   "id": "e78b62b4",
   "metadata": {},
   "outputs": [
    {
     "name": "stdout",
     "output_type": "stream",
     "text": [
      "X_num_tr: (5557, 28)   X_num_te: (1197, 28)\n"
     ]
    }
   ],
   "source": [
    "X_num_tr = x_train_df[numeric_cols].to_numpy(dtype=float)\n",
    "X_num_te = x_test_df[numeric_cols].to_numpy(dtype=float)\n",
    "\n",
    "print(\"X_num_tr:\", X_num_tr.shape, \"  X_num_te:\", X_num_te.shape)\n"
   ]
  },
  {
   "cell_type": "markdown",
   "id": "7b2a9c27",
   "metadata": {},
   "source": [
    "## Set C Values for cross fold search"
   ]
  },
  {
   "cell_type": "code",
   "execution_count": 83,
   "id": "3ca5736c",
   "metadata": {},
   "outputs": [],
   "source": [
    "C_values = np.logspace(-5, 1, 9)"
   ]
  },
  {
   "cell_type": "markdown",
   "id": "64537d7b",
   "metadata": {},
   "source": [
    "#  Cross Validation Loop"
   ]
  },
  {
   "cell_type": "code",
   "execution_count": null,
   "id": "ad7faba6",
   "metadata": {},
   "outputs": [
    {
     "name": "stdout",
     "output_type": "stream",
     "text": [
      "C=1.00e-05  train_AUC=0.7804  val_AUC=0.7685\n",
      "C=5.62e-05  train_AUC=0.7934  val_AUC=0.7707\n",
      "C=3.16e-04  train_AUC=0.8160  val_AUC=0.7692\n",
      "C=1.78e-03  train_AUC=0.8459  val_AUC=0.7633\n",
      "C=1.00e-02  train_AUC=0.8745  val_AUC=0.7510\n",
      "C=5.62e-02  train_AUC=0.8913  val_AUC=0.7340\n",
      "C=3.16e-01  train_AUC=0.8962  val_AUC=0.7208\n",
      "C=1.78e+00  train_AUC=0.8968  val_AUC=0.7158\n",
      "C=1.00e+01  train_AUC=0.8968  val_AUC=0.7146\n",
      "\n",
      "Best C=5.623e-05 (mean val AUROC=0.770675)\n"
     ]
    }
   ],
   "source": [
    "cv = GroupKFold(n_splits=5)\n",
    "mean_train_auc, mean_val_auc = [], []\n",
    "\n",
    "for C in C_values:\n",
    "    train_aucs, val_aucs = [], []\n",
    "\n",
    "    # splits data into train/val folds with author grouping\n",
    "    for tr_idx, va_idx in cv.split(E_tr, y, groups=groups):\n",
    "        Xtr, Xva = E_tr[tr_idx], E_tr[va_idx]\n",
    "        ytr, yva = y[tr_idx], y[va_idx]\n",
    "\n",
    "        # Scale embeddings within each fold to avoid leakage\n",
    "\n",
    "        scaler = StandardScaler() \n",
    "        Xtr_s = scaler.fit_transform(Xtr) # learn scaling for each column (mean, standard dev.)\n",
    "        Xva_s = scaler.transform(Xva) # apply learned scaling to each column in the data\n",
    "\n",
    "        # Using both l1 and l2 penalties to eliminate weak features\n",
    "        clf = LogisticRegression(\n",
    "            solver=\"lbfgs\",\n",
    "            penalty=\"l2\",\n",
    "            C=C,\n",
    "            max_iter=1000,\n",
    "            random_state=42,\n",
    "        )\n",
    "        clf.fit(Xtr_s, ytr)\n",
    "\n",
    "\n",
    "        \n",
    "        p_tr = clf.predict_proba(Xtr_s)[:, 1]\n",
    "        p_va = clf.predict_proba(Xva_s)[:, 1]\n",
    "\n",
    "        train_aucs.append(roc_auc_score(ytr, p_tr))\n",
    "        val_aucs.append(roc_auc_score(yva, p_va))\n",
    "\n",
    "    mean_train_auc.append(np.mean(train_aucs))\n",
    "    mean_val_auc.append(np.mean(val_aucs))\n",
    "    print(f\"C={C:8.2e}  train_AUC={np.mean(train_aucs):.4f}  val_AUC={np.mean(val_aucs):.4f}\")\n",
    "\n",
    "best_idx = int(np.argmax(mean_val_auc))\n",
    "best_C = float(C_values[best_idx])\n",
    "print(f\"\\nBest C={best_C:.3e} (mean val AUROC={mean_val_auc[best_idx]:.6f})\")\n",
    "\n"
   ]
  },
  {
   "cell_type": "code",
   "execution_count": 93,
   "id": "ae5bf9c9",
   "metadata": {},
   "outputs": [
    {
     "data": {
      "image/png": "[encoded data removed]",
      "text/plain": [
       "<Figure size 700x500 with 1 Axes>"
      ]
     },
     "metadata": {},
     "output_type": "display_data"
    }
   ],
   "source": [
    "plt.figure(figsize=(7,5))\n",
    "plt.semilogx(C_values, mean_train_auc, marker='x', label='Train AUROC')\n",
    "plt.semilogx(C_values, mean_val_auc, marker='o', label='Validation AUROC')\n",
    "plt.xlabel(\"C (inverse l2)\")\n",
    "plt.ylabel(\"Mean AUROC (5-fold GroupKFold by author)\")\n",
    "plt.title(\"Logistic Regression on BERT Embeddings\")\n",
    "plt.legend()\n",
    "plt.grid(True, alpha=0.3)\n",
    "plt.show()\n"
   ]
  },
  {
   "cell_type": "code",
   "execution_count": 87,
   "id": "f8b58bfc",
   "metadata": {},
   "outputs": [
    {
     "name": "stdout",
     "output_type": "stream",
     "text": [
      "Final model trained with C=0.000\n",
      "Wrote yproba1_test.txt\n",
      "Preview: [0.7163 0.7282 0.6249 0.7332 0.7041]\n"
     ]
    }
   ],
   "source": [
    "# Scale on FULL train embeddings, then transform test embeddings\n",
    "scaler_final = StandardScaler()\n",
    "Etr_s = scaler_final.fit_transform(E_tr)\n",
    "Ete_s = scaler_final.transform(E_te)\n",
    "\n",
    "clf_final = LogisticRegression(\n",
    "    solver=\"lbfgs\",\n",
    "    penalty=\"l2\",\n",
    "    C=best_C,\n",
    "    max_iter=1000,\n",
    "    random_state=42,\n",
    ")\n",
    "clf_final.fit(Etr_s, y)\n",
    "\n",
    "yproba_test = clf_final.predict_proba(Ete_s)[:, 1]\n",
    "np.savetxt(\"yproba1_test.txt\", yproba_test, fmt=\"%.6f\")\n",
    "\n",
    "print(f\"Final model trained with C={best_C:.3f}\")\n",
    "print(\"Wrote yproba1_test.txt\")\n",
    "print(\"Preview:\", np.round(yproba_test[:5], 4))\n"
   ]
  },
  {
   "cell_type": "code",
   "execution_count": 95,
   "id": "221bed23",
   "metadata": {},
   "outputs": [
    {
     "data": {
      "image/png": "[encoded data removed]",
      "text/plain": [
       "<Figure size 800x550 with 2 Axes>"
      ]
     },
     "metadata": {},
     "output_type": "display_data"
    },
    {
     "name": "stdout",
     "output_type": "stream",
     "text": [
      "Confusion matrix counts:\n",
      "[[173 194]\n",
      " [184 560]]\n",
      "Fold AUROC: 0.6723\n"
     ]
    }
   ],
   "source": [
    "# Quick confusion matrix on one validation fold (author-level split)\n",
    "from sklearn.metrics import confusion_matrix, ConfusionMatrixDisplay\n",
    "\n",
    "# Pick one split from GroupKFold (first fold for simplicity)\n",
    "cv = GroupKFold(n_splits=5)\n",
    "first_fold = next(cv.split(X_num_tr, y, groups=groups))\n",
    "tr_idx, va_idx = first_fold\n",
    "\n",
    "Xtr, Xva = X_num_tr[tr_idx], X_num_tr[va_idx]\n",
    "ytr, yva = y[tr_idx], y[va_idx]\n",
    "\n",
    "# Scale within this fold\n",
    "scaler = StandardScaler()\n",
    "Xtr_s = scaler.fit_transform(Xtr)\n",
    "Xva_s = scaler.transform(Xva)\n",
    "\n",
    "# Train with the chosen best_C\n",
    "clf_fold = LogisticRegression(\n",
    "    solver=\"lbfgs\",\n",
    "    penalty=\"l2\",\n",
    "    C=best_C,\n",
    "    max_iter=1000,\n",
    "    random_state=RANDOM_STATE,\n",
    ")\n",
    "clf_fold.fit(Xtr_s, ytr)\n",
    "\n",
    "# Predict and build confusion matrix\n",
    "y_pred = clf_fold.predict(Xva_s)\n",
    "cm = confusion_matrix(yva, y_pred)\n",
    "disp = ConfusionMatrixDisplay(confusion_matrix=cm, display_labels=[\"Lower (0)\", \"Upper (1)\"])\n",
    "disp.plot(cmap=\"Blues\")\n",
    "plt.title(f\"Confusion Matrix (1 validation fold, C={best_C:.3f})\")\n",
    "plt.show()\n",
    "\n",
    "# Print numeric summary\n",
    "print(\"Confusion matrix counts:\")\n",
    "print(cm)\n",
    "print(f\"Fold AUROC: {roc_auc_score(yva, clf_fold.predict_proba(Xva_s)[:,1]):.4f}\")\n"
   ]
  }
 ],
 "metadata": {
  "kernelspec": {
   "display_name": "cs135_25s_env",
   "language": "python",
   "name": "python3"
  },
  "language_info": {
   "codemirror_mode": {
    "name": "ipython",
    "version": 3
   },
   "file_extension": ".py",
   "mimetype": "text/x-python",
   "name": "python",
   "nbconvert_exporter": "python",
   "pygments_lexer": "ipython3",
   "version": "3.11.13"
  }
 },
 "nbformat": 4,
 "nbformat_minor": 5
}
